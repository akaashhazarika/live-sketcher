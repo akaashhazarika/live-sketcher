{
 "cells": [
  {
   "cell_type": "markdown",
   "metadata": {},
   "source": [
    "Live Sketcher using OPEN CV"
   ]
  },
  {
   "cell_type": "code",
   "execution_count": 18,
   "metadata": {
    "collapsed": false
   },
   "outputs": [],
   "source": [
    "import cv2\n",
    "import numpy as np\n",
    "\n",
    "def drawing(image):\n",
    "    blackandwhite = cv2.cvtColor(image, cv2.COLOR_BGR2GRAY)\n",
    "    removenoises = cv2.GaussianBlur(blackandwhite, (7,7), 0)\n",
    "    gettingcannyedges = cv2.Canny(removenoises, 10, 40)\n",
    "    ret, finalimage = cv2.threshold(gettingcannyedges, 40, 255, cv2.THRESH_BINARY_INV)\n",
    "    return finalimage\n",
    "\n",
    "\n",
    "\n",
    "cap = cv2.VideoCapture(0)\n",
    "\n",
    "while True:\n",
    "    ret, frame = cap.read()\n",
    "    temp=drawing(frame)\n",
    "    cv2.imshow('Press Enter to Save Screenshot', temp)\n",
    "    if cv2.waitKey(1) == 13:\n",
    "        break\n",
    "        \n",
    "   \n",
    "cap.release()\n",
    "cv2.destroyAllWindows()   \n",
    "cv2.imshow('Your screenshot', temp)\n",
    "font = cv2.FONT_HERSHEY_SIMPLEX\n",
    "cv2.putText(temp,'Akaash Sketches',(10,60), font, 2,(1,1,1),2,cv2.LINE_AA)\n",
    "cv2.imwrite('C:\\\\Users\\\\SONY\\Desktop\\screenshot.png',temp)\n",
    "cv2.waitKey(0)\n",
    "cv2.destroyAllWindows()      \n"
   ]
  },
  {
   "cell_type": "code",
   "execution_count": null,
   "metadata": {
    "collapsed": true
   },
   "outputs": [],
   "source": []
  }
 ],
 "metadata": {
  "anaconda-cloud": {},
  "kernelspec": {
   "display_name": "Python [conda root]",
   "language": "python",
   "name": "conda-root-py"
  },
  "language_info": {
   "codemirror_mode": {
    "name": "ipython",
    "version": 3
   },
   "file_extension": ".py",
   "mimetype": "text/x-python",
   "name": "python",
   "nbconvert_exporter": "python",
   "pygments_lexer": "ipython3",
   "version": "3.5.2"
  }
 },
 "nbformat": 4,
 "nbformat_minor": 0
}
