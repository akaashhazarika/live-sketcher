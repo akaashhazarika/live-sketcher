{
 "cells": [
  {
   "cell_type": "code",
   "execution_count": null,
   "metadata": {
    "collapsed": false
   },
   "outputs": [],
   "source": [
    "import cv2\n",
    "import numpy as np\n",
    "im=cv2.imread('images\\\\input.jpg')\n",
    "\n",
    "\n",
    "def handdrawing(frame):\n",
    "    grayscale=cv2.cvtColor(frame,cv2.COLOR_BGR2GRAY)\n",
    "    gaussianblur=cv2.GaussianBlur(grayscale,(5,5),0)\n",
    "    cannyedge=cv2.Canny(gaussianblur,10,40)\n",
    "    ret, ans=cv2.threshold(cannyedge,40,255,cv2.THRESH_BINARY_INV)\n",
    "    return ans\n",
    "\n",
    "\n",
    "cap=cv2.VideoCapture(0)\n",
    "\n",
    "while True:\n",
    "    ret,frame=cap.read()\n",
    "    cv2.imshow('Image',handdrawing(frame))\n",
    "    if cv2.waitKey(1)==13:\n",
    "       \n",
    "        break\n",
    "\n",
    "cap.release()\n",
    "\n",
    "cv2.destroyAllWindows()\n",
    "\n"
   ]
  },
  {
   "cell_type": "code",
   "execution_count": null,
   "metadata": {
    "collapsed": true
   },
   "outputs": [],
   "source": [
    "cam = cv2.VideoCapture(1)\n",
    "s, im = cam.read() # captures image\n",
    "cv2.imshow(\"Test Picture\", im) # displays captured image\n",
    "cv2.imwrite(\"test.bmp\",im) # writes image test.bmp to disk\n",
    "cam.release()\n",
    "cv2.destroyAllWindows()"
   ]
  }
 ],
 "metadata": {
  "anaconda-cloud": {},
  "kernelspec": {
   "display_name": "Python [conda root]",
   "language": "python",
   "name": "conda-root-py"
  },
  "language_info": {
   "codemirror_mode": {
    "name": "ipython",
    "version": 3
   },
   "file_extension": ".py",
   "mimetype": "text/x-python",
   "name": "python",
   "nbconvert_exporter": "python",
   "pygments_lexer": "ipython3",
   "version": "3.5.2"
  }
 },
 "nbformat": 4,
 "nbformat_minor": 1
}
